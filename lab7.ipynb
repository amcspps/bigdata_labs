{
 "cells": [
  {
   "cell_type": "code",
   "execution_count": 7,
   "metadata": {},
   "outputs": [],
   "source": [
    "import numpy as np\n",
    "import pandas as pd\n",
    "from scipy import stats\n",
    "import math as m\n",
    "import matplotlib.pyplot as plt\n",
    "from sklearn import linear_model\n",
    "from mlxtend import feature_selection\n",
    "from sklearn import preprocessing\n"
   ]
  },
  {
   "cell_type": "code",
   "execution_count": 8,
   "metadata": {},
   "outputs": [],
   "source": [
    "SERIES_SIZE = 20\n",
    "VARIABLES_NUM = 3\n",
    "NOISE_DISTR = lambda size : stats.norm.rvs(size = size)\n",
    "ORIGIN_X_DISTRIBUTION = lambda size : stats.uniform.rvs(size=size, scale = 30)\n",
    "ORIGIN_Y_DISTRIBUTION = lambda x1, x2, x3, noise = None : 1 + 3 * x1 - 2 * x2 + x3 + noise\n",
    "DATA_SRC = \"./tgn_w.csv\"\n",
    "POLY_DEGREE = 6"
   ]
  },
  {
   "cell_type": "code",
   "execution_count": 9,
   "metadata": {},
   "outputs": [],
   "source": [
    "#regression models\n",
    "def init_linear_regression(X, y):\n",
    "    mlr = linear_model.LinearRegression()\n",
    "    mlr.fit(X=X, y=y)\n",
    "    return mlr\n",
    "\n",
    "def output_linear_regrestion_errors(new_y : np.array, origin_y : np.array):\n",
    "    err = np.array(origin_y - new_y)\n",
    "    n = len(err)\n",
    "    \n",
    "    rss = err.dot(err)\n",
    "    rse = np.sqrt(rss / (n - 2))\n",
    "    tss = np.var(origin_y) * n\n",
    "    nu = (tss - rss) / tss\n",
    "\n",
    "    print(\"RSS = {:.6f}\".format(rss))\n",
    "    print(\"TSS = {:.6f}\".format(tss))\n",
    "    print(\"RSE = {:.6f}\".format(rse))\n",
    "    print(\"NU = {:.6f}\".format(nu))\n",
    "\n",
    "def init_polynome_regrestion_model(poly_degree : int, X : np.array, y : np.array):\n",
    "    print(\"line\")\n",
    "    mlr = init_linear_regression(X, y)\n",
    "    print(mlr.coef_)\n",
    "    output_linear_regrestion_errors(mlr.predict(X=X), y)\n",
    "\n",
    "    print(\"poly\")\n",
    "    poly_reg = preprocessing.PolynomialFeatures(degree=poly_degree)\n",
    "    X_poly = poly_reg.fit_transform(X)\n",
    "    lr_model = linear_model.LinearRegression()\n",
    "    \n",
    "    feature_selector = feature_selection.SequentialFeatureSelector(lr_model, \n",
    "        k_features=32,\n",
    "        forward=True\n",
    "    )\n",
    "    \n",
    "    features = feature_selector.fit(X=X_poly, y=y)\n",
    "    mX = X_poly[:, features.k_feature_idx_]\n",
    "    lr_model.fit(X=mX, y=y)\n",
    "    return mX, lr_model\n"
   ]
  },
  {
   "cell_type": "code",
   "execution_count": 10,
   "metadata": {},
   "outputs": [],
   "source": [
    "#data preprocessing\n",
    "def line_criterius(datatime: str):\n",
    "    data, time = datatime.split(\" \")\n",
    "    day, mon, year = data.split(\".\")\n",
    "    hour, minut = time.split(\":\")\n",
    "    dt_dict = {\n",
    "        \"year\": int(year),\n",
    "        \"mon\": int(mon),\n",
    "        \"day\": int(day),\n",
    "        \"hour\": int(hour),\n",
    "        \"min\": int(minut)  \n",
    "    }\n",
    "    return dt_dict\n",
    "\n",
    "def init_data_from_table(csv_path : str):\n",
    "    # open csv file\n",
    "    data = pd.read_csv(csv_path, sep=\";\", index_col=False, encoding=\"utf-8\", comment=\"#\")\n",
    "    data = pd.DataFrame({\"datetime\": data[\"Местное время в Санкт-Петербурге\"], \"T\": data[\"T\"]}).dropna()\n",
    "    \n",
    "    new_features = [\n",
    "        \"year\",\n",
    "        \"mon\",\n",
    "        \"day\",\n",
    "        \"hour\",\n",
    "        \"min\"\n",
    "    ]\n",
    "    \n",
    "    for new_feature in new_features:\n",
    "        data[new_feature] = data[\"datetime\"].apply(lambda line: line_criterius(line)[new_feature])\n",
    "\n",
    "    data = data.loc[data[\"min\"] == 0]\n",
    "    data = data.loc[data[\"hour\"] == 0]\n",
    "    data = data.drop([\"datetime\", \"min\", \"hour\"], axis=1)\n",
    "\n",
    "    y_data = data[\"T\"]\n",
    "    X_data = data.drop(\"T\", axis=1)\n",
    "\n",
    "    y = np.array(y_data)\n",
    "    X = np.array(X_data)\n",
    "    \n",
    "    return X, y"
   ]
  },
  {
   "cell_type": "code",
   "execution_count": 11,
   "metadata": {},
   "outputs": [],
   "source": [
    "def task_1(series_size : int, variables_nums : int, xs_distribution, y_distribution, noise_distribution):\n",
    "    X = [xs_distribution(series_size) for _ in range(variables_nums)]\n",
    "    noise = noise_distribution(series_size)\n",
    "    y = y_distribution(*(X[i] for i in range(variables_nums)), noise)\n",
    "    X = np.array(X).transpose()\n",
    "    mlr = init_linear_regression(X, y)\n",
    "    \n",
    "    # task 1 - check multi-linear-regression\n",
    "    print(mlr.coef_)\n",
    "    \n",
    "    # task 2 - check multi-linear-model\n",
    "    output_linear_regrestion_errors(mlr.predict(X=X), y)\n",
    "\n",
    "def task_2(csv_path : str, poly_degree : int):\n",
    "    X, y = init_data_from_table(csv_path)\n",
    "    X, mlr = init_polynome_regrestion_model(poly_degree, X, y)\n",
    "    output_linear_regrestion_errors(mlr.predict(X=X), y)"
   ]
  },
  {
   "cell_type": "code",
   "execution_count": 12,
   "metadata": {},
   "outputs": [
    {
     "name": "stdout",
     "output_type": "stream",
     "text": [
      "[ 2.95576855 -2.00284193  1.00484094]\n",
      "RSS = 24.523726\n",
      "TSS = 22435.802012\n",
      "RSE = 1.167231\n",
      "NU = 0.998907\n",
      "line\n",
      "[5.52279821 0.78239067 0.05772075]\n",
      "RSS = 50163.112656\n",
      "TSS = 59335.852890\n",
      "RSE = 8.300926\n",
      "NU = 0.154590\n",
      "poly\n",
      "RSS = 10379.086921\n",
      "TSS = 59335.852890\n",
      "RSE = 3.775843\n",
      "NU = 0.825079\n"
     ]
    }
   ],
   "source": [
    "task_1(SERIES_SIZE, VARIABLES_NUM, ORIGIN_X_DISTRIBUTION, ORIGIN_Y_DISTRIBUTION, NOISE_DISTR)\n",
    "task_2(DATA_SRC, POLY_DEGREE)"
   ]
  }
 ],
 "metadata": {
  "kernelspec": {
   "display_name": "venv",
   "language": "python",
   "name": "python3"
  },
  "language_info": {
   "codemirror_mode": {
    "name": "ipython",
    "version": 3
   },
   "file_extension": ".py",
   "mimetype": "text/x-python",
   "name": "python",
   "nbconvert_exporter": "python",
   "pygments_lexer": "ipython3",
   "version": "3.11.5"
  }
 },
 "nbformat": 4,
 "nbformat_minor": 2
}
