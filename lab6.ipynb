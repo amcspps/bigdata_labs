{
 "cells": [
  {
   "cell_type": "code",
   "execution_count": 8,
   "id": "6a6ef7ff",
   "metadata": {},
   "outputs": [],
   "source": [
    "import numpy as np\n",
    "import pandas as pd\n",
    "from matplotlib import pyplot as plt\n",
    "import seaborn as sns\n",
    "from statsmodels import robust"
   ]
  },
  {
   "cell_type": "code",
   "execution_count": 9,
   "id": "3c4426b1",
   "metadata": {},
   "outputs": [],
   "source": [
    "SIZE = 1000\n",
    "DIMENSION = 5000"
   ]
  },
  {
   "cell_type": "code",
   "execution_count": 10,
   "id": "1ab054ad",
   "metadata": {},
   "outputs": [],
   "source": [
    "normal_distrib = np.random.normal(0,1, size=(DIMENSION,SIZE))\n",
    "coshi_distrib = np.random.standard_cauchy(size=(DIMENSION,SIZE))\n",
    "mix_distrib =  0.9 * np.random.normal(0, 1, size=(DIMENSION,SIZE)) + \\\n",
    "                  0.1 * np.random.standard_cauchy(size=(DIMENSION,SIZE))"
   ]
  },
  {
   "cell_type": "code",
   "execution_count": 11,
   "id": "c6586b5f",
   "metadata": {},
   "outputs": [],
   "source": [
    "#plt.hist(normal_distrib[0])"
   ]
  },
  {
   "cell_type": "code",
   "execution_count": 12,
   "id": "252260a2",
   "metadata": {},
   "outputs": [
    {
     "data": {
      "text/plain": [
       "1000"
      ]
     },
     "execution_count": 12,
     "metadata": {},
     "output_type": "execute_result"
    }
   ],
   "source": [
    "len(normal_distrib[0])"
   ]
  },
  {
   "cell_type": "code",
   "execution_count": 13,
   "id": "38ee5ced",
   "metadata": {},
   "outputs": [],
   "source": [
    "def my_huber(data):\n",
    "    x = np.mean(data)\n",
    "    if abs(x) < 1.44:\n",
    "        return x\n",
    "    else:\n",
    "        return (-1.44,1,44)[x>1.44]\n",
    "    \n",
    "def two_stage_estimator_fun(data):\n",
    "    q1 = np.percentile(data, 25)\n",
    "    q3 = np.percentile(data, 75)\n",
    "\n",
    "    # Вычисление IQR\n",
    "    iqr = q3 - q1\n",
    "\n",
    "    # Определение границ для выбросов\n",
    "    lower_bound = q1 - 1.5 * iqr\n",
    "    upper_bound = q3 + 1.5 * iqr\n",
    "\n",
    "    # Отбрасывание выбросов\n",
    "    filtered_data = data[(data >= lower_bound) & (data <= upper_bound)]\n",
    "\n",
    "    return np.mean(filtered_data)\n"
   ]
  },
  {
   "cell_type": "code",
   "execution_count": 14,
   "id": "ea877497",
   "metadata": {},
   "outputs": [
    {
     "name": "stderr",
     "output_type": "stream",
     "text": [
      "/tmp/ipykernel_4317/2263172887.py:6: DeprecationWarning: In future, it will be an error for 'np.bool_' scalars to be interpreted as an index\n",
      "  return (-1.44,1,44)[x>1.44]\n"
     ]
    }
   ],
   "source": [
    "\n",
    "means = {'norm':[], 'coshi':[], 'mix':[]}\n",
    "medians = {'norm':[], 'coshi':[], 'mix':[]}\n",
    "huber_estimates = {'norm':[], 'coshi':[], 'mix':[]}\n",
    "two_stage_estimates = {'norm':[], 'coshi':[], 'mix':[]}\n",
    "for i in range (DIMENSION):\n",
    "    means['norm'].append(np.mean(normal_distrib[i]))\n",
    "    means['coshi'].append(np.mean(coshi_distrib[i]))\n",
    "    means['mix'].append(np.mean(mix_distrib[i]))\n",
    "    \n",
    "    medians['norm'].append(np.median(normal_distrib[i]))\n",
    "    medians['coshi'].append(np.median(coshi_distrib[i]))\n",
    "    medians['mix'].append(np.median(mix_distrib[i]))\n",
    "    \n",
    "    huber_estimates['norm'].append(my_huber(normal_distrib[i]))\n",
    "    huber_estimates['coshi'].append(my_huber(coshi_distrib[i]))\n",
    "    huber_estimates['mix'].append(my_huber(mix_distrib[i]))\n",
    "    \n",
    "    two_stage_estimates['norm'].append(two_stage_estimator_fun(normal_distrib[i]))\n",
    "    two_stage_estimates['coshi'].append(two_stage_estimator_fun(coshi_distrib[i]))\n",
    "    two_stage_estimates['mix'].append(two_stage_estimator_fun(mix_distrib[i]))\n",
    "    "
   ]
  },
  {
   "cell_type": "code",
   "execution_count": 15,
   "id": "9dd5d858",
   "metadata": {},
   "outputs": [
    {
     "name": "stdout",
     "output_type": "stream",
     "text": [
      "\n",
      "Нормальное:\n",
      "\tСреднее:\n",
      "\t\t\tСреднее:\t -0.000500 \n",
      " \t\t\tДисперсия:\t 0.001019\n",
      "\tМедиана:\n",
      "\t\t\tСреднее:\t -0.000763 \n",
      " \t\t\tДисперсия:\t 0.001633\n",
      "\tХубер:\n",
      "\t\t\tСреднее:\t -0.000500 \n",
      " \t\t\tДисперсия:\t 0.001019\n",
      "\tДвухэтапная оценка:\n",
      "\t\t\tСреднее:\t -0.000437 \n",
      " \t\t\tДисперсия:\t 0.001094\n",
      "\n",
      "Коши:\n",
      "\tСреднее:\n",
      "\t\t\tСреднее:\t -0.361394 \n",
      " \t\t\tДисперсия:\t 845.544835\n",
      "\tМедиана:\n",
      "\t\t\tСреднее:\t 0.000527 \n",
      " \t\t\tДисперсия:\t 0.002466\n",
      "\tХубер:\n",
      "\t\t\tСреднее:\t -0.080823 \n",
      " \t\t\tДисперсия:\t 0.880205\n",
      "\tДвухэтапная оценка:\n",
      "\t\t\tСреднее:\t 0.000400 \n",
      " \t\t\tДисперсия:\t 0.003397\n",
      "\n",
      "Смесь:\n",
      "\tСреднее:\n",
      "\t\t\tСреднее:\t -0.090858 \n",
      " \t\t\tДисперсия:\t 17.706086\n",
      "\tМедиана:\n",
      "\t\t\tСреднее:\t -0.001097 \n",
      " \t\t\tДисперсия:\t 0.001492\n",
      "\tХубер:\n",
      "\t\t\tСреднее:\t -0.007892 \n",
      " \t\t\tДисперсия:\t 0.149551\n",
      "\tДвухэтапная оценка:\n",
      "\t\t\tСреднее:\t -0.000271 \n",
      " \t\t\tДисперсия:\t 0.001055\n"
     ]
    }
   ],
   "source": [
    "#Нормальное распределение \n",
    "def res_print(types):\n",
    "    names = {types[0]: \"Нормальное:\", types[1]: \"Коши:\", types[2]: \"Смесь:\"}\n",
    "    for type_ in types:\n",
    "        print(f'\\n{names[type_]}')\n",
    "        print(\"\\tСреднее:\")\n",
    "        print(\"\\t\\t\\tСреднее:\\t\", f\"{np.mean(means[type_]):.6f}\", \"\\n\", \"\\t\\t\\tДисперсия:\\t\", f\"{np.var(means[type_]):.6f}\")\n",
    "\n",
    "        print(\"\\tМедиана:\")\n",
    "        print(\"\\t\\t\\tСреднее:\\t\", f\"{np.mean(medians[type_]):.6f}\",\"\\n\", \"\\t\\t\\tДисперсия:\\t\", f\"{np.var(medians[type_]):.6f}\")\n",
    "\n",
    "        print(\"\\tХубер:\")\n",
    "        print(\"\\t\\t\\tСреднее:\\t\", f\"{np.mean(huber_estimates[type_]):.6f}\",\"\\n\" , \"\\t\\t\\tДисперсия:\\t\", f\"{np.var(huber_estimates[type_]):.6f}\")\n",
    "\n",
    "        print(\"\\tДвухэтапная оценка:\")\n",
    "        print(\"\\t\\t\\tСреднее:\\t\", f\"{np.mean(two_stage_estimates[type_]):.6f}\",\"\\n\", \"\\t\\t\\tДисперсия:\\t\", f\"{np.var(two_stage_estimates[type_]):.6f}\")\n",
    "res_print(['norm', 'coshi', 'mix'])"
   ]
  },
  {
   "cell_type": "code",
   "execution_count": 16,
   "id": "92b6065a",
   "metadata": {},
   "outputs": [],
   "source": [
    "def get_graph(dict_,name):\n",
    "    name_arr = ['norm', 'coshi', 'mix']\n",
    "    fig, ax = plt.subplots(nrows=3, ncols=1,figsize=(15,15))\n",
    "\n",
    "    for i,type_ in enumerate(dict_.keys()):\n",
    "        ax[i].set_title(name_arr[i])\n",
    "        ax[i].plot(dict_[type_])\n",
    "    fig.suptitle(name,fontsize=20)\n",
    "    plt.show()"
   ]
  },
  {
   "cell_type": "code",
   "execution_count": 20,
   "id": "d1f753be",
   "metadata": {},
   "outputs": [],
   "source": [
    "def get_hist(dict_,name):\n",
    "    name_arr = ['norm', 'coshi', 'mix']\n",
    "    fig, ax = plt.subplots(nrows=3, ncols=1,figsize=(15,15))\n",
    "\n",
    "    for i,type_ in enumerate(dict_.keys()):\n",
    "        ax[i].set_title(name_arr[i])\n",
    "        ax[i].hist(dict_[type_],bins=20)\n",
    "    fig.suptitle(name,fontsize=20)\n",
    "    plt.show()"
   ]
  }
 ],
 "metadata": {
  "kernelspec": {
   "display_name": "Python 3 (ipykernel)",
   "language": "python",
   "name": "python3"
  },
  "language_info": {
   "codemirror_mode": {
    "name": "ipython",
    "version": 3
   },
   "file_extension": ".py",
   "mimetype": "text/x-python",
   "name": "python",
   "nbconvert_exporter": "python",
   "pygments_lexer": "ipython3",
   "version": "3.11.6"
  }
 },
 "nbformat": 4,
 "nbformat_minor": 5
}
