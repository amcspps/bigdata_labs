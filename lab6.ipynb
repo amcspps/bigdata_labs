{
 "cells": [
  {
   "cell_type": "code",
   "execution_count": 1,
   "metadata": {},
   "outputs": [],
   "source": [
    "import numpy as np\n",
    "from scipy import stats\n",
    "import matplotlib.pyplot as plt"
   ]
  },
  {
   "cell_type": "code",
   "execution_count": 2,
   "metadata": {},
   "outputs": [],
   "source": [
    "def huber(x: np.array, k: float):\n",
    "    phi = lambda elem: elem if abs(elem) < k else k * np.sign(elem)\n",
    "\n",
    "    return np.mean([phi(elem) for elem in x])\n",
    "\n",
    "def sigm3_rull(x: np.array):\n",
    "\n",
    "    xmean = np.mean(x)\n",
    "    xvar = np.var(x)\n",
    "    is_in_3sigm = lambda xi: np.abs(xi - xmean) < 3*xvar\n",
    "\n",
    "    clear_res = [val for val in x if is_in_3sigm(val)]\n",
    "\n",
    "    return clear_res\n",
    "\n",
    "def double_stage_mean(x: np.array):\n",
    "    x = sigm3_rull(x)\n",
    "    return np.mean(x)"
   ]
  },
  {
   "cell_type": "code",
   "execution_count": 3,
   "metadata": {},
   "outputs": [],
   "source": [
    "distributions = {\n",
    "    \"Нормальное\": stats.norm.rvs,\n",
    "    \"Коши\": stats.cauchy.rvs,\n",
    "    \"Смешанное\": lambda size: 0.9 * stats.norm.rvs(size=size) + 0.1 * stats.cauchy.rvs(size=size) \n",
    "}\n",
    "\n",
    "measures = {\n",
    "    \"среднее\": np.mean,\n",
    "    \"медиана\": np.median,\n",
    "    \"Хубер\": lambda x: huber(x, 1.44),\n",
    "    \"2-эт\": double_stage_mean\n",
    "}\n"
   ]
  },
  {
   "cell_type": "code",
   "execution_count": 4,
   "metadata": {},
   "outputs": [],
   "source": [
    "def monte_karlo(N: int, sample_size: int, dist_grvs, measure):\n",
    "    means = [measure(dist_grvs(size=sample_size)) for _ in range(N)]\n",
    "\n",
    "    return np.mean(means), np.var(means)"
   ]
  },
  {
   "cell_type": "code",
   "execution_count": 5,
   "metadata": {},
   "outputs": [],
   "source": [
    "def main(N : int = 10000, sample_size: int = 100):\n",
    "    for dname, grvs in distributions.items():\n",
    "        print(dname)\n",
    "        for mname, measure in measures.items():\n",
    "            mu, var = monte_karlo(N, sample_size, grvs, measure)\n",
    "            print(f\"\\t{mname}\")\n",
    "            print(f\"\\t\\tСреднее:\\t{mu:.6f}\")\n",
    "            print(f\"\\t\\tДисперсия:\\t{var:.6f}\")\n",
    "        print(\"\")\n"
   ]
  },
  {
   "cell_type": "code",
   "execution_count": 6,
   "metadata": {},
   "outputs": [
    {
     "name": "stdout",
     "output_type": "stream",
     "text": [
      "Нормальное\n",
      "\tсреднее\n",
      "\t\tСреднее:\t0.000353\n",
      "\t\tДисперсия:\t0.009986\n",
      "\tмедиана\n",
      "\t\tСреднее:\t0.000134\n",
      "\t\tДисперсия:\t0.015156\n",
      "\tХубер\n",
      "\t\tСреднее:\t0.001502\n",
      "\t\tДисперсия:\t0.007392\n",
      "\t2-эт\n",
      "\t\tСреднее:\t0.001453\n",
      "\t\tДисперсия:\t0.010368\n",
      "\n",
      "Коши\n",
      "\tсреднее\n",
      "\t\tСреднее:\t-0.281869\n",
      "\t\tДисперсия:\t2609.232260\n",
      "\tмедиана\n",
      "\t\tСреднее:\t-0.000656\n",
      "\t\tДисперсия:\t0.025492\n",
      "\tХубер\n",
      "\t\tСреднее:\t0.001141\n",
      "\t\tДисперсия:\t0.011014\n",
      "\t2-эт\n",
      "\t\tСреднее:\t0.481793\n",
      "\t\tДисперсия:\t6102.794494\n",
      "\n",
      "Смешанное\n",
      "\tсреднее\n",
      "\t\tСреднее:\t-0.004168\n",
      "\t\tДисперсия:\t29.428458\n",
      "\tмедиана\n",
      "\t\tСреднее:\t-0.000059\n",
      "\t\tДисперсия:\t0.014893\n",
      "\tХубер\n",
      "\t\tСреднее:\t0.000315\n",
      "\t\tДисперсия:\t0.007580\n",
      "\t2-эт\n",
      "\t\tСреднее:\t0.046917\n",
      "\t\tДисперсия:\t47.688622\n",
      "\n"
     ]
    }
   ],
   "source": [
    "main()"
   ]
  }
 ],
 "metadata": {
  "kernelspec": {
   "display_name": "venv",
   "language": "python",
   "name": "python3"
  },
  "language_info": {
   "codemirror_mode": {
    "name": "ipython",
    "version": 3
   },
   "file_extension": ".py",
   "mimetype": "text/x-python",
   "name": "python",
   "nbconvert_exporter": "python",
   "pygments_lexer": "ipython3",
   "version": "3.11.5"
  }
 },
 "nbformat": 4,
 "nbformat_minor": 2
}
